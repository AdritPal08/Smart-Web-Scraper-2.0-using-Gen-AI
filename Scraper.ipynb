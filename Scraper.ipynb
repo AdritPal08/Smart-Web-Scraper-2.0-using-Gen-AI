{
 "cells": [
  {
   "cell_type": "code",
   "execution_count": 36,
   "metadata": {},
   "outputs": [
    {
     "data": {
      "text/plain": [
       "True"
      ]
     },
     "execution_count": 36,
     "metadata": {},
     "output_type": "execute_result"
    }
   ],
   "source": [
    "from scraper import (\n",
    "    fetch_html_selenium,\n",
    "    save_raw_data,\n",
    "    save_formatted_data,\n",
    "    calculate_price,\n",
    "    html_to_markdown_with_readability,\n",
    "    create_dynamic_listing_model,\n",
    "    create_listings_container_model,\n",
    "    scrape_url,\n",
    "    setup_selenium,\n",
    "    generate_unique_folder_name\n",
    ")\n",
    "from assets import USER_AGENTS,PRICING,HEADLESS_OPTIONS,SYSTEM_MESSAGE,USER_MESSAGE,LLAMA_MODEL_FULLNAME,GROQ_LLAMA_MODEL_FULLNAME,HEADLESS_OPTIONS_DOCKER\n",
    "\n",
    "import os\n",
    "import google.generativeai as genai\n",
    "from api_management import get_api_key\n",
    "from dotenv import load_dotenv\n",
    "load_dotenv()"
   ]
  },
  {
   "cell_type": "code",
   "execution_count": 41,
   "metadata": {},
   "outputs": [],
   "source": [
    "def format_data1(data, DynamicListingsContainer, DynamicListingModel, selected_model):\n",
    "    genai.configure(api_key=os.getenv('GOOGLE_API_KEY'))\n",
    "    model = genai.GenerativeModel(selected_model,\n",
    "                generation_config={\n",
    "                    \"response_mime_type\": \"application/json\",\n",
    "                    \"response_schema\": DynamicListingsContainer\n",
    "                })\n",
    "    prompt = SYSTEM_MESSAGE + \"\\n\" + USER_MESSAGE + data\n",
    "    # Count input tokens using Gemini's method\n",
    "    input_tokens = model.count_tokens(prompt)\n",
    "    completion = model.generate_content(prompt)\n",
    "    # Extract token counts from usage_metadata\n",
    "    usage_metadata = completion.usage_metadata\n",
    "    token_counts = {\n",
    "            \"input_tokens\": usage_metadata.prompt_token_count,\n",
    "            \"output_tokens\": usage_metadata.candidates_token_count\n",
    "        }\n",
    "    return completion.text, token_counts\n",
    "    "
   ]
  },
  {
   "cell_type": "code",
   "execution_count": 28,
   "metadata": {},
   "outputs": [],
   "source": [
    "url = 'https://sg.linkedin.com/company/sing-fuels'\n",
    "field_names = [\n",
    "    \"Post Description\",\n",
    "    \"Post Time\",\n",
    "    \"Hashtags\"\n",
    "]\n",
    "model_selection = \"gemini-1.5-flash\""
   ]
  },
  {
   "cell_type": "code",
   "execution_count": 14,
   "metadata": {},
   "outputs": [
    {
     "name": "stdout",
     "output_type": "stream",
     "text": [
      "Raw data saved to test_output\\sg_linkedin_com_2025_01_23__22_54_29\\rawData_1.md\n"
     ]
    },
    {
     "data": {
      "text/plain": [
       "'test_output\\\\sg_linkedin_com_2025_01_23__22_54_29\\\\rawData_1.md'"
      ]
     },
     "execution_count": 14,
     "metadata": {},
     "output_type": "execute_result"
    }
   ],
   "source": [
    "driver = setup_selenium(attended_mode=True)\n",
    "driver.get(url)\n",
    "output_folder = os.path.join('test_output', generate_unique_folder_name(url))\n",
    "os.makedirs(output_folder, exist_ok=True)\n",
    "raw_html = fetch_html_selenium(url, attended_mode=True, driver=driver)\n",
    "markdown = html_to_markdown_with_readability(raw_html)\n",
    "save_raw_data(markdown, output_folder, f'rawData_1.md')"
   ]
  },
  {
   "cell_type": "code",
   "execution_count": 42,
   "metadata": {},
   "outputs": [],
   "source": [
    "current_url = driver.current_url\n",
    "DynamicListingModel = create_dynamic_listing_model(field_names)\n",
    "DynamicListingsContainer = create_listings_container_model(DynamicListingModel)\n",
    "formatted_data, token_counts = format_data1(\n",
    "                    markdown, DynamicListingsContainer, DynamicListingModel, model_selection\n",
    "                )"
   ]
  },
  {
   "cell_type": "code",
   "execution_count": 44,
   "metadata": {},
   "outputs": [
    {
     "name": "stdout",
     "output_type": "stream",
     "text": [
      "Formatted data saved to JSON at test_output\\sg_linkedin_com_2025_01_23__22_54_29\\sorted_data_1.json\n",
      "DataFrame created successfully.\n",
      "Formatted data saved to Excel at test_output\\sg_linkedin_com_2025_01_23__22_54_29\\sorted_data_1.xlsx\n"
     ]
    },
    {
     "data": {
      "text/html": [
       "<div>\n",
       "<style scoped>\n",
       "    .dataframe tbody tr th:only-of-type {\n",
       "        vertical-align: middle;\n",
       "    }\n",
       "\n",
       "    .dataframe tbody tr th {\n",
       "        vertical-align: top;\n",
       "    }\n",
       "\n",
       "    .dataframe thead th {\n",
       "        text-align: right;\n",
       "    }\n",
       "</style>\n",
       "<table border=\"1\" class=\"dataframe\">\n",
       "  <thead>\n",
       "    <tr style=\"text-align: right;\">\n",
       "      <th></th>\n",
       "      <th>Hashtags</th>\n",
       "      <th>Post Description</th>\n",
       "      <th>Post Time</th>\n",
       "    </tr>\n",
       "  </thead>\n",
       "  <tbody>\n",
       "    <tr>\n",
       "      <th>0</th>\n",
       "      <td>#sustainability#marinefuels#shipping#energytra...</td>\n",
       "      <td>“The marine transition is a trillion-dollar di...</td>\n",
       "      <td>1mo</td>\n",
       "    </tr>\n",
       "    <tr>\n",
       "      <th>1</th>\n",
       "      <td>#NewYear2025#HappyNewYear</td>\n",
       "      <td>Sing Fuels wishes you a joyful and prosperous ...</td>\n",
       "      <td>3w</td>\n",
       "    </tr>\n",
       "    <tr>\n",
       "      <th>2</th>\n",
       "      <td>#HolidayWishes#HappyHolidays#HolidaySeason#Chr...</td>\n",
       "      <td>This holiday season, we wish you are surrounde...</td>\n",
       "      <td>4w</td>\n",
       "    </tr>\n",
       "    <tr>\n",
       "      <th>3</th>\n",
       "      <td>#FuelingSuccess#SingFuels</td>\n",
       "      <td>Meet the leaders that are#FuelingSuccessat Sin...</td>\n",
       "      <td>1mo</td>\n",
       "    </tr>\n",
       "    <tr>\n",
       "      <th>4</th>\n",
       "      <td>#FuelingSuccess#LeadershipAtSingFuels#Leadersh...</td>\n",
       "      <td>Meet the leaders that are#FuelingSuccessat Sin...</td>\n",
       "      <td>1mo</td>\n",
       "    </tr>\n",
       "    <tr>\n",
       "      <th>5</th>\n",
       "      <td>#teamappreciation#teamwork#energyservices#sing...</td>\n",
       "      <td>This week started on an incredible note with o...</td>\n",
       "      <td>1mo</td>\n",
       "    </tr>\n",
       "    <tr>\n",
       "      <th>6</th>\n",
       "      <td>#E50Awards#AwardNight#Internationalisation#Goi...</td>\n",
       "      <td>Special news! ✨ 🎉 We are thrilled to announce ...</td>\n",
       "      <td>1mo</td>\n",
       "    </tr>\n",
       "    <tr>\n",
       "      <th>7</th>\n",
       "      <td>#SingFuels7InARow#E50Award#E50Singapore#Singap...</td>\n",
       "      <td>We have big news! 🎉 Last night at the Enterpri...</td>\n",
       "      <td>1mo</td>\n",
       "    </tr>\n",
       "    <tr>\n",
       "      <th>8</th>\n",
       "      <td>#Diwali#SingFuels</td>\n",
       "      <td>May this festive season fill your lives with l...</td>\n",
       "      <td>2mo</td>\n",
       "    </tr>\n",
       "    <tr>\n",
       "      <th>9</th>\n",
       "      <td>#SingFuels#Anniversary#12YearsStrong#TeamSingF...</td>\n",
       "      <td>Celebrating 12 Years of Growth and Success 🎉 T...</td>\n",
       "      <td>3mo</td>\n",
       "    </tr>\n",
       "  </tbody>\n",
       "</table>\n",
       "</div>"
      ],
      "text/plain": [
       "                                            Hashtags  \\\n",
       "0  #sustainability#marinefuels#shipping#energytra...   \n",
       "1                          #NewYear2025#HappyNewYear   \n",
       "2  #HolidayWishes#HappyHolidays#HolidaySeason#Chr...   \n",
       "3                          #FuelingSuccess#SingFuels   \n",
       "4  #FuelingSuccess#LeadershipAtSingFuels#Leadersh...   \n",
       "5  #teamappreciation#teamwork#energyservices#sing...   \n",
       "6  #E50Awards#AwardNight#Internationalisation#Goi...   \n",
       "7  #SingFuels7InARow#E50Award#E50Singapore#Singap...   \n",
       "8                                  #Diwali#SingFuels   \n",
       "9  #SingFuels#Anniversary#12YearsStrong#TeamSingF...   \n",
       "\n",
       "                                    Post Description Post Time  \n",
       "0  “The marine transition is a trillion-dollar di...       1mo  \n",
       "1  Sing Fuels wishes you a joyful and prosperous ...        3w  \n",
       "2  This holiday season, we wish you are surrounde...        4w  \n",
       "3  Meet the leaders that are#FuelingSuccessat Sin...       1mo  \n",
       "4  Meet the leaders that are#FuelingSuccessat Sin...       1mo  \n",
       "5  This week started on an incredible note with o...       1mo  \n",
       "6  Special news! ✨ 🎉 We are thrilled to announce ...       1mo  \n",
       "7  We have big news! 🎉 Last night at the Enterpri...       1mo  \n",
       "8  May this festive season fill your lives with l...       2mo  \n",
       "9  Celebrating 12 Years of Growth and Success 🎉 T...       3mo  "
      ]
     },
     "execution_count": 44,
     "metadata": {},
     "output_type": "execute_result"
    }
   ],
   "source": [
    "save_formatted_data(formatted_data, output_folder, f'sorted_data_1.json', f'sorted_data_1.xlsx')"
   ]
  },
  {
   "cell_type": "code",
   "execution_count": 20,
   "metadata": {},
   "outputs": [
    {
     "data": {
      "text/plain": [
       "{'Post Description': (str, Ellipsis),\n",
       " 'Post Time': (str, Ellipsis),\n",
       " 'Hashtags': (str, Ellipsis)}"
      ]
     },
     "execution_count": 20,
     "metadata": {},
     "output_type": "execute_result"
    }
   ],
   "source": [
    "field_definitions = {field: (str, ...) for field in field_names}\n",
    "field_definitions"
   ]
  },
  {
   "cell_type": "code",
   "execution_count": 43,
   "metadata": {},
   "outputs": [
    {
     "data": {
      "text/plain": [
       "'{\"listings\": [{\"Hashtags\": \"#sustainability#marinefuels#shipping#energytransition#ESG\", \"Post Description\": \"“The marine transition is a trillion-dollar dilemma for the next decade” andSing Fuels is poised to lead this transformative journey for the marineindustry. Our CEO, Vikash Dhanuka features in an exclusive interview with TheBusiness Times, where he shares insightsinto Sing Fuels’ mission to drive sustainability in the shipping industry. This vision is inspired by the ambitious targets set by the InternationalMaritime Organization: a 20% reduction in shipping emissions by 2030 and achieving net-zero emissions by 2050. Read thearticle authored by Paige Lim to discover how Sing Fuels is embracing bold changes and evolving into a pioneer of energy-transition.\", \"Post Time\": \"1mo\"}, {\"Hashtags\": \"#NewYear2025#HappyNewYear\", \"Post Description\": \"Sing Fuels wishes you a joyful and prosperous New Year ✨🎉 As we anchor-in on2025, we are ready to plunge into a successful year and create bigger waves inthe energy trading industry! 2024 has been an incredible year for us and it has been wonderful connecting with you all. Keep following our page for aninsight into the energy trading industry and latest updates of what\\'s happening at Sing Fuels. Cheers to the journey ahead!\", \"Post Time\": \"3w\"}, {\"Hashtags\": \"#HolidayWishes#HappyHolidays#HolidaySeason#Christmas2024\", \"Post Description\": \"This holiday season, we wish you are surrounded by the love and warmth of your loved ones! May your days sparkle with laughter and your hearts be filled with peace and happiness. Have a Merry Christmas and a Happy New Year! 🎉\", \"Post Time\": \"4w\"}, {\"Hashtags\": \"#FuelingSuccess#SingFuels\", \"Post Description\": \"Meet the leaders that are#FuelingSuccessat Sing Fuels 🎉 Today, we turn our focus to[Ngai HingLong, ](https://sg.linkedin.com/in/ngai-hing-long-fcca-uk-ca-of-s%E2%80%99pore-aa977516a?trk=organization_guest_main-feed-card-text)the VP of Finance at#SingFuels. Hing Long joined Sing Fuels in 2020, bringing over 15 yearsof financial expertise. In his role, Hing Long focuses on maintaining robustbanking relationships and ensuring the company has the necessary funding to support our diverse operations, including base oil trading and bunkering. Bysecuring ample credit lines and aligning financial strategies, he plays apivotal role in empowering our traders and driving the company’s growth. HingLong is committed to decentralizing management and fostering collaborationwithin the team. Sharing his leadership perspective, he says, “I alwaysencourage my team to provide feedback, even about my performance. Continuous improvement is key and everyone, regardless of their position, has valuableinsights to contribute.” Hing Long is truly a leader who believes in leadingfrom the front and his leadership is set to take Sing Fuels to new heights. Stay tuned as we continue to highlight the inspiring leaders#FuelingSuccessat Sing Fuels. More stories of growth, collaboration andleadership are on the way! Vikash Dhanuka#Leadership#LeadershipValues#LeadershipTips#Finance\", \"Post Time\": \"1mo\"}, {\"Hashtags\": \"#FuelingSuccess#LeadershipAtSingFuels#Leadership#LeaderStory#InspirationalStory#SingFuels\", \"Post Description\": \"Meet the leaders that are#FuelingSuccessat Sing Fuels ✨ Today, we shine the spotlight on[SanketNaik](https://sg.linkedin.com/in/sanket-naik-507388215?trk=organization_guest_main-feed-card-text), who has recentlybeen promoted to Managing Director of Sing Fuels. Sanket joined Sing Fuels in2016 as a Credit Manager and from thereon, his journey has been marked by arelentless dedication to excel in every role he has taken on. He immersedhimself across all departments, ranging from investment to businessdevelopment, gaining a 360-degree understanding of the business and serving as akey driver of growth and success at Sing Fuels. As Managing Director, Sanket iscommitted to upholding the core values of Sing Fuels while empowering the teamto embrace challenges and most importantly, lead with passion. He is poisedto drive Sing Fuels 3.0, expanding into areas like sustainability andbiofuels, ensuring we stay at the forefront of industry innovation. Hisjourney is a testament to what is possible at Sing Fuels for those who aredriven to create impact. Stay tuned for more inspiring stories from ourexceptional leaders and connect with us if you\\'d like to explore leadershippositions at Sing Fuels! Vikash Dhanuka\", \"Post Time\": \"1mo\"}, {\"Hashtags\": \"#teamappreciation#teamwork#energyservices#singfuels#annualtownhall#townhall\", \"Post Description\": \"This week started on an incredible note with our double win at the Enterprise50 awards. As congratulations and support continue to pour in from our partners and supporters from across the world, we extend a heartfelt thank you to our outstanding team whose dedication propels Sing Fuels higher on its upward journey. Here is a glimpse of our annual townhall held recently at our headquarters in Singapore where our team marked the launch of Sing Fuels 3.0. We celebrated a bold new vision that takes us beyond marine fuels trading into becoming a diversified energy services powerhouse. As we embark on this exciting new path, our brand’s foundational Cs—Committed, Competitive, Collaborative, Creative, and Caring remain at the heart of everything we do. Together as a team, united by a growth mindset, we aim to achieve the extraordinary. Vikash Dhanuka[Sanket Naik](https://sg.linkedin.com/in/sanket-naik-507388215?trk=organization_guest_main-feed-card-text)[Ngai HingLong,](https://sg.linkedin.com/in/ngai-hing-long-fcca-uk-ca-of-s%E2%80%99pore-aa977516a?trk=organization_guest_main-feed-card-text)Jefferson C.[PrasenjitDas](https://ae.linkedin.com/in/prasenjit-v-das?trk=organization_guest_main-feed-card-text)[Luthfiya Fathima](https://ae.linkedin.com/in/fathima-luthfiya?trk=organization_guest_main-feed-card-text)[Daryl Ng YongChuan](https://sg.linkedin.com/in/daryl-ng-yong-chuan-80bbb614a?trk=organization_guest_main-feed-card-text)[TomStany](https://in.linkedin.com/in/tom-stany-61104698?trk=organization_guest_main-feed-card-text)[Syazana](https://sg.linkedin.com/in/syazana-jumari-161127173?trk=organization_guest_main-feed-card-text)\", \"Post Time\": \"1mo\"}, {\"Hashtags\": \"#E50Awards#AwardNight#Internationalisation#GoingGlobal#SingFuelsAwardWin\", \"Post Description\": \"Special news! ✨ 🎉 We are thrilled to announce that in addition to be beingrecognised among Singapore’s Top 50 Enterprises, Sing Fuels has also receivedthe Special Award for Internationalisation! 🏆 This award holds deep significance for us. 12 years ago, we began as a homegrown brand based inSingapore, driven by a strong vision to expand our operations globally. Today,that vision is a reality. We proudly operate in over 350+ ports across theworld, with offices and representatives across Dubai, South Africa, Turkey,Greece, India and the United Kingdom. As we stand on the cusp of furtherexpansion, receiving this award solidifies our position as a leading force inthe trading of marine fuels and energy solutions. A heartfelt thank you toEnterprise 50, The Business Times andKPMG for this incredible honor. The journey continues and we are readyto take on the world! Vikash Dhanuka\", \"Post Time\": \"1mo\"}, {\"Hashtags\": \"#SingFuels7InARow#E50Award#E50Singapore#SingaporeTopEnterprises#SingFuelsSuccess#SingFuelsE50Journey\", \"Post Description\": \"We have big news! 🎉 Last night at the Enterprise 50 awards, Sing Fuels wasrecognized among the top 50 enterprises of Singapore for the 7th consecutiveyear! This year, the distinguished award celebrates champions of change and weare so proud to have made it as award winners, yet again. It was an immenselyinspiring moment to watch our leadership, Vikash Dhanuka and[SanketNaik](https://sg.linkedin.com/in/sanket-naik-507388215?trk=organization_guest_main-feed-card-text)take the stage toaccept the award whilst our team members, partners and supporters from theaudience and across the world cheered on loudly! As we continue on ourremarkable journey of growth, this milestone strengthens our belief in ourvision. It pushes us to achieve greater goals in the marine fuels and energyindustry, and continue bolstering the economic development of Singapore. Congratulations to every Sing Fueler for the win! Here\\'s to unlocking manymore achievements and powering forward.\", \"Post Time\": \"1mo\"}, {\"Hashtags\": \"#Diwali#SingFuels\", \"Post Description\": \"May this festive season fill your lives with love, light & prosperity.\", \"Post Time\": \"2mo\"}, {\"Hashtags\": \"#SingFuels#Anniversary#12YearsStrong#TeamSingFuels#Celebration#BuildingForTomorrow\", \"Post Description\": \"Celebrating 12 Years of Growth and Success 🎉 Today marks Sing Fuels’ 12thanniversary! To mark this special milestone, our team has come together inSingapore for a week of connecting, reflecting, and celebrating everything wehave achieved together. What started as a vision back in 2012 has grown intosomething beyond what we could have imagined, thanks to the dedication, hardwork, and resilience of our amazing team. This anniversary is not just aboutthe company—it is about every person who has contributed to making Sing Fuelswhat it is today. Here’s to 12 amazing years, and many more to come. Cheersto the Sing Fuels team!\", \"Post Time\": \"3mo\"}]}'"
      ]
     },
     "execution_count": 43,
     "metadata": {},
     "output_type": "execute_result"
    }
   ],
   "source": [
    "formatted_data"
   ]
  },
  {
   "cell_type": "code",
   "execution_count": null,
   "metadata": {},
   "outputs": [],
   "source": []
  }
 ],
 "metadata": {
  "kernelspec": {
   "display_name": "venv",
   "language": "python",
   "name": "python3"
  },
  "language_info": {
   "codemirror_mode": {
    "name": "ipython",
    "version": 3
   },
   "file_extension": ".py",
   "mimetype": "text/x-python",
   "name": "python",
   "nbconvert_exporter": "python",
   "pygments_lexer": "ipython3",
   "version": "3.10.0"
  }
 },
 "nbformat": 4,
 "nbformat_minor": 2
}
